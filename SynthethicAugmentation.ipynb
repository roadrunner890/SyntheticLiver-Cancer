{
  "cells": [
    {
      "cell_type": "markdown",
      "metadata": {
        "id": "view-in-github",
        "colab_type": "text"
      },
      "source": [
        "<a href=\"https://colab.research.google.com/github/roadrunner890/SyntheticLiver-Cancer/blob/main/SynthethicAugmentation.ipynb\" target=\"_parent\"><img src=\"https://colab.research.google.com/assets/colab-badge.svg\" alt=\"Open In Colab\"/></a>"
      ]
    },
    {
      "cell_type": "code",
      "execution_count": 30,
      "metadata": {
        "id": "5B0FpV0ARt9i"
      },
      "outputs": [],
      "source": [
        "import numpy as np\n",
        "import tensorflow as tf\n",
        "from tensorflow import keras\n",
        "from keras.callbacks import History \n",
        "from random import randint\n",
        "import matplotlib.pyplot as plt\n",
        "from skimage.filters import gaussian\n",
        "from skimage.util import random_noise\n",
        "import matplotlib.pyplot as pp\n",
        "from tensorflow.keras import datasets, layers, models\n",
        "%matplotlib inline"
      ]
    },
    {
      "cell_type": "code",
      "execution_count": 31,
      "metadata": {
        "id": "2TxRtRpsRt9j"
      },
      "outputs": [],
      "source": [
        "# Create 1000 squares\n",
        "NUM_SQUARES = 1000\n",
        "X_train = []\n",
        "for i in range(NUM_SQUARES):\n",
        "    exp = np.zeros((28, 28)) #  28*28 canvas \n",
        "    x_start = randint(0,27)\n",
        "    x_end = randint(x_start, 28)\n",
        "    y_start = randint(0, 27)\n",
        "    y_end = randint(y_start, 28)\n",
        "    for x in range(y_start, y_end):\n",
        "        for y in range(y_start, y_end):\n",
        "            exp[x, y] = 1\n",
        "    X_train.append(exp)"
      ]
    },
    {
      "cell_type": "code",
      "execution_count": 32,
      "metadata": {
        "id": "GqGpgCt-Rt9j"
      },
      "outputs": [],
      "source": [
        " # Add blurred/noisy/flipped to squares\n",
        "blurred_x = []\n",
        "noisy_x = []  \n",
        "fliplr_x = []\n",
        "\n",
        "for x in X_train:\n",
        "    blurred_x.append(gaussian(x, sigma=0.5))\n",
        "    noisy_x.append(random_noise(x))\n",
        "\n",
        "for x in range(1000):\n",
        "  fliplr_x.append(np.fliplr(X_train[x]))"
      ]
    },
    {
      "cell_type": "code",
      "execution_count": 33,
      "metadata": {
        "colab": {
          "base_uri": "https://localhost:8080/"
        },
        "id": "CuljZhFfRt9k",
        "outputId": "70563df6-5a15-4aa2-f75f-ef15091a9856"
      },
      "outputs": [
        {
          "output_type": "stream",
          "name": "stdout",
          "text": [
            "2000\n"
          ]
        }
      ],
      "source": [
        "# Create 1000 circles\n",
        "for i in range(NUM_SQUARES):\n",
        "    x = np.arange(0, 28)\n",
        "    y = np.arange(0, 28)\n",
        "    arr = np.zeros((y.size, x.size))\n",
        "\n",
        "    cx = randint(0, 28)\n",
        "    cy = randint(0, 28)\n",
        "    r = randint(0, 14)\n",
        "\n",
        "    # The two lines below could be merged, but I stored the mask\n",
        "    # for code clarity.\n",
        "    mask = (x[np.newaxis,:]-cx)**2 + (y[:,np.newaxis]-cy)**2 < r**2\n",
        "    arr[mask] = 1\n",
        "    if randint(0, 1) == 0: # sometie true\n",
        "        arr = np.fliplr(arr)\n",
        "    X_train.append(arr)\n",
        "print(len(X_train))"
      ]
    },
    {
      "cell_type": "code",
      "execution_count": 34,
      "metadata": {
        "colab": {
          "base_uri": "https://localhost:8080/"
        },
        "id": "PDDrhsuwRt9k",
        "outputId": "4cb41ca3-c250-4ef8-97ff-ad63585c4f3e"
      },
      "outputs": [
        {
          "output_type": "stream",
          "name": "stdout",
          "text": [
            "2000\n",
            "2000\n",
            "2000\n"
          ]
        }
      ],
      "source": [
        " # Add blurred/noisy/flipped to circles\n",
        "for x in X_train[1000:]:\n",
        "    blurred_x.append(gaussian(x, sigma=0.5))\n",
        "    noisy_x.append(random_noise(x))\n",
        "\n",
        "for x in range(1000, 2000):\n",
        "  fliplr_x.append(np.fliplr(X_train[x]))\n",
        "\n",
        "print(len(blurred_x))\n",
        "print(len(noisy_x))\n",
        "print(len(fliplr_x))\n",
        "\n",
        "# create lists to numpy arrays\n",
        "X_train = np.array(X_train)\n",
        "fliplr_x = np.array(fliplr_x)\n",
        "noisy_x = np.array(noisy_x)\n",
        "blurred_x = np.array(blurred_x)"
      ]
    },
    {
      "cell_type": "code",
      "execution_count": 35,
      "metadata": {
        "colab": {
          "base_uri": "https://localhost:8080/",
          "height": 282
        },
        "id": "aNAVCcUjRt9k",
        "outputId": "867de22f-127b-4d4f-e255-2de73f10d425"
      },
      "outputs": [
        {
          "output_type": "execute_result",
          "data": {
            "text/plain": [
              "<matplotlib.image.AxesImage at 0x7fdb98d24b10>"
            ]
          },
          "metadata": {},
          "execution_count": 35
        },
        {
          "output_type": "display_data",
          "data": {
            "image/png": "[encoded data removed]",
            "text/plain": [
              "<Figure size 432x288 with 1 Axes>"
            ]
          },
          "metadata": {
            "needs_background": "light"
          }
        }
      ],
      "source": [
        "# 0-1000 are squares, 1000-2000 are circles\n",
        "index = 1350\n",
        "plt.imshow(X_train[index])"
      ]
    },
    {
      "cell_type": "code",
      "source": [
        "plt.imshow(fliplr_x[index])"
      ],
      "metadata": {
        "colab": {
          "base_uri": "https://localhost:8080/",
          "height": 282
        },
        "id": "5LKROaJWbQ16",
        "outputId": "fc868d60-5a31-401e-91f6-c137f7161b9e"
      },
      "execution_count": 36,
      "outputs": [
        {
          "output_type": "execute_result",
          "data": {
            "text/plain": [
              "<matplotlib.image.AxesImage at 0x7fdb9d8d1510>"
            ]
          },
          "metadata": {},
          "execution_count": 36
        },
        {
          "output_type": "display_data",
          "data": {
            "image/png": "[encoded data removed]",
            "text/plain": [
              "<Figure size 432x288 with 1 Axes>"
            ]
          },
          "metadata": {
            "needs_background": "light"
          }
        }
      ]
    },
    {
      "cell_type": "code",
      "source": [
        "plt.imshow(noisy_x[index])"
      ],
      "metadata": {
        "colab": {
          "base_uri": "https://localhost:8080/",
          "height": 282
        },
        "id": "XYkN_DH5bY01",
        "outputId": "1d049274-534b-449b-f41d-cf7fbbbdd082"
      },
      "execution_count": 37,
      "outputs": [
        {
          "output_type": "execute_result",
          "data": {
            "text/plain": [
              "<matplotlib.image.AxesImage at 0x7fdb9d8e1990>"
            ]
          },
          "metadata": {},
          "execution_count": 37
        },
        {
          "output_type": "display_data",
          "data": {
            "image/png": "[encoded data removed]",
            "text/plain": [
              "<Figure size 432x288 with 1 Axes>"
            ]
          },
          "metadata": {
            "needs_background": "light"
          }
        }
      ]
    },
    {
      "cell_type": "code",
      "source": [
        "plt.imshow(blurred_x[index])"
      ],
      "metadata": {
        "colab": {
          "base_uri": "https://localhost:8080/",
          "height": 282
        },
        "id": "wNpy6Gqrbc4c",
        "outputId": "2bbf54e0-f7a8-4d97-d88c-6a1f2c9a426c"
      },
      "execution_count": 38,
      "outputs": [
        {
          "output_type": "execute_result",
          "data": {
            "text/plain": [
              "<matplotlib.image.AxesImage at 0x7fdb9d7f5110>"
            ]
          },
          "metadata": {},
          "execution_count": 38
        },
        {
          "output_type": "display_data",
          "data": {
            "image/png": "[encoded data removed]",
            "text/plain": [
              "<Figure size 432x288 with 1 Axes>"
            ]
          },
          "metadata": {
            "needs_background": "light"
          }
        }
      ]
    },
    {
      "cell_type": "code",
      "execution_count": 39,
      "metadata": {
        "id": "X-6s8QeJRt9l"
      },
      "outputs": [],
      "source": [
        "# Labels\n",
        "# Squares with 0, Circles with 1\n",
        "Y_train = np.array([1 if i < NUM_SQUARES else 0 for i in range(NUM_SQUARES * 2)])\n",
        "fliplr_y = np.array([1 if i < NUM_SQUARES else 0 for i in range(NUM_SQUARES * 2)])\n",
        "noisy_y = np.array([1 if i < NUM_SQUARES else 0 for i in range(NUM_SQUARES * 2)])\n",
        "blurred_y = np.array([1 if i < NUM_SQUARES else 0 for i in range(NUM_SQUARES * 2)])"
      ]
    },
    {
      "cell_type": "code",
      "execution_count": 40,
      "metadata": {
        "id": "1L52gXKnRt9l"
      },
      "outputs": [],
      "source": [
        "# Shuffle training data\n",
        "shuffler = np.random.permutation(NUM_SQUARES*2)\n",
        "X_train = X_train[shuffler]\n",
        "Y_train = Y_train[shuffler]\n",
        "\n",
        "fliplr_x = fliplr_x[shuffler]\n",
        "fliplr_y = fliplr_y[shuffler]\n",
        "\n",
        "noisy_x = noisy_x[shuffler]\n",
        "noisy_y = noisy_y[shuffler]\n",
        "\n",
        "blurred_x = blurred_x[shuffler]\n",
        "blurred_y = blurred_y[shuffler]"
      ]
    },
    {
      "cell_type": "code",
      "execution_count": 41,
      "metadata": {
        "collapsed": true,
        "id": "SdURx0l2Rt9l",
        "colab": {
          "base_uri": "https://localhost:8080/",
          "height": 282
        },
        "outputId": "8b3d721b-9bb6-4c13-89c1-99ce8391868a"
      },
      "outputs": [
        {
          "output_type": "execute_result",
          "data": {
            "text/plain": [
              "<matplotlib.image.AxesImage at 0x7fdb9d7d79d0>"
            ]
          },
          "metadata": {},
          "execution_count": 41
        },
        {
          "output_type": "display_data",
          "data": {
            "image/png": "[encoded data removed]",
            "text/plain": [
              "<Figure size 432x288 with 1 Axes>"
            ]
          },
          "metadata": {
            "needs_background": "light"
          }
        }
      ],
      "source": [
        "# Show that images/labels have been shuffled\n",
        "plt.imshow(X_train[index])"
      ]
    },
    {
      "cell_type": "code",
      "execution_count": 42,
      "metadata": {
        "id": "C9otNMj8Rt9m"
      },
      "outputs": [],
      "source": [
        "# 85% of 2000 images is training data and 15% is testing data\n",
        "NUM_TRAIN = int(NUM_SQUARES*2*0.85)\n",
        "X_test = X_train[NUM_TRAIN:]\n",
        "Y_test = Y_train[NUM_TRAIN:]\n",
        "X_train = X_train[:NUM_TRAIN]\n",
        "Y_train = Y_train[:NUM_TRAIN]\n",
        " \n",
        "fliplr_x_test = fliplr_x[NUM_TRAIN:]\n",
        "fliplr_y_test = fliplr_y[NUM_TRAIN:]\n",
        "fliplr_x = fliplr_x[:NUM_TRAIN]\n",
        "fliplr_y = fliplr_y[:NUM_TRAIN]\n",
        "\n",
        "noisy_x_test = noisy_x[NUM_TRAIN:]\n",
        "noisy_y_test = noisy_y[NUM_TRAIN:]\n",
        "noisy_x = noisy_x[:NUM_TRAIN]\n",
        "noisy_y = noisy_y[:NUM_TRAIN]\n",
        "\n",
        "blurred_x_test = blurred_x[NUM_TRAIN:]\n",
        "blurred_y_test = blurred_y[NUM_TRAIN:]\n",
        "blurred_x = blurred_x[:NUM_TRAIN]\n",
        "blurred_y = blurred_y[:NUM_TRAIN]"
      ]
    },
    {
      "cell_type": "code",
      "source": [
        "# Flatten all data for input layer\n",
        "X_train_flattened = X_train.reshape(len(X_train), 28*28)\n",
        "fliplr_x_flattened = fliplr_x.reshape(len(fliplr_x), 28*28)\n",
        "noisy_x_flattened = noisy_x.reshape(len(noisy_x), 28*28)\n",
        "blurred_x_flattened = blurred_x.reshape(len(blurred_x), 28*28)"
      ],
      "metadata": {
        "id": "dIyB7l9mwoDL"
      },
      "execution_count": 43,
      "outputs": []
    },
    {
      "cell_type": "code",
      "execution_count": 44,
      "metadata": {
        "collapsed": true,
        "id": "FY8Z7HmKRt9m",
        "colab": {
          "base_uri": "https://localhost:8080/"
        },
        "outputId": "b1205b50-1cb8-496d-8b34-5c12d55f2b86"
      },
      "outputs": [
        {
          "output_type": "stream",
          "name": "stdout",
          "text": [
            "Epoch 1/10\n",
            "54/54 [==============================] - 1s 4ms/step - loss: 0.4325 - accuracy: 0.8012\n",
            "Epoch 2/10\n",
            "54/54 [==============================] - 0s 4ms/step - loss: 0.2432 - accuracy: 0.9047\n",
            "Epoch 3/10\n",
            "54/54 [==============================] - 0s 4ms/step - loss: 0.1728 - accuracy: 0.9276\n",
            "Epoch 4/10\n",
            "54/54 [==============================] - 0s 3ms/step - loss: 0.1595 - accuracy: 0.9224\n",
            "Epoch 5/10\n",
            "54/54 [==============================] - 0s 4ms/step - loss: 0.1347 - accuracy: 0.9341\n",
            "Epoch 6/10\n",
            "54/54 [==============================] - 0s 3ms/step - loss: 0.1071 - accuracy: 0.9471\n",
            "Epoch 7/10\n",
            "54/54 [==============================] - 0s 4ms/step - loss: 0.0856 - accuracy: 0.9541\n",
            "Epoch 8/10\n",
            "54/54 [==============================] - 0s 4ms/step - loss: 0.0805 - accuracy: 0.9541\n",
            "Epoch 9/10\n",
            "54/54 [==============================] - 0s 3ms/step - loss: 0.0718 - accuracy: 0.9624\n",
            "Epoch 10/10\n",
            "54/54 [==============================] - 0s 3ms/step - loss: 0.0803 - accuracy: 0.9524\n"
          ]
        },
        {
          "output_type": "execute_result",
          "data": {
            "text/plain": [
              "<keras.callbacks.History at 0x7fdb9d786dd0>"
            ]
          },
          "metadata": {},
          "execution_count": 44
        }
      ],
      "source": [
        "# Normal Dataset\n",
        "history = History()\n",
        "model = keras.Sequential([\n",
        "    keras.layers.Dense(200, input_shape=(784,), activation='relu'),\n",
        "    keras.layers.Dense(100, activation='relu'),\n",
        "    keras.layers.Dense(2, activation='sigmoid')\n",
        "])\n",
        "\n",
        "model.compile(optimizer='adam',\n",
        "              loss='sparse_categorical_crossentropy',\n",
        "              metrics=['accuracy'])\n",
        "\n",
        "model.fit(X_train_flattened, Y_train, epochs=10, callbacks=[history])"
      ]
    },
    {
      "cell_type": "code",
      "execution_count": 45,
      "metadata": {
        "collapsed": true,
        "id": "l0ufb8f_Rt9m",
        "colab": {
          "base_uri": "https://localhost:8080/",
          "height": 269
        },
        "outputId": "b03072f5-b314-4e62-8ef3-4bc4110e463d"
      },
      "outputs": [
        {
          "output_type": "display_data",
          "data": {
            "image/png": "[encoded data removed]",
            "text/plain": [
              "<Figure size 432x288 with 1 Axes>"
            ]
          },
          "metadata": {
            "needs_background": "light"
          }
        }
      ],
      "source": [
        "# Graph of Normal Dataset\n",
        "losses = history.history['loss']\n",
        "timeline = np.arange(len(losses))\n",
        "pp.plot(timeline, losses)\n",
        "pp.show()"
      ]
    },
    {
      "cell_type": "code",
      "execution_count": 46,
      "metadata": {
        "collapsed": true,
        "id": "IXq_3oSnRt9n",
        "colab": {
          "base_uri": "https://localhost:8080/"
        },
        "outputId": "ad869abb-a189-4520-8341-175e1c52955f"
      },
      "outputs": [
        {
          "output_type": "stream",
          "name": "stdout",
          "text": [
            "Epoch 1/10\n",
            "54/54 [==============================] - 1s 3ms/step - loss: 0.4435 - accuracy: 0.8018\n",
            "Epoch 2/10\n",
            "54/54 [==============================] - 0s 3ms/step - loss: 0.2497 - accuracy: 0.8912\n",
            "Epoch 3/10\n",
            "54/54 [==============================] - 0s 3ms/step - loss: 0.1829 - accuracy: 0.9218\n",
            "Epoch 4/10\n",
            "54/54 [==============================] - 0s 4ms/step - loss: 0.1329 - accuracy: 0.9465\n",
            "Epoch 5/10\n",
            "54/54 [==============================] - 0s 3ms/step - loss: 0.1451 - accuracy: 0.9271\n",
            "Epoch 6/10\n",
            "54/54 [==============================] - 0s 3ms/step - loss: 0.1101 - accuracy: 0.9453\n",
            "Epoch 7/10\n",
            "54/54 [==============================] - 0s 3ms/step - loss: 0.0885 - accuracy: 0.9559\n",
            "Epoch 8/10\n",
            "54/54 [==============================] - 0s 4ms/step - loss: 0.0964 - accuracy: 0.9412\n",
            "Epoch 9/10\n",
            "54/54 [==============================] - 0s 3ms/step - loss: 0.0986 - accuracy: 0.9506\n",
            "Epoch 10/10\n",
            "54/54 [==============================] - 0s 3ms/step - loss: 0.0818 - accuracy: 0.9524\n"
          ]
        },
        {
          "output_type": "execute_result",
          "data": {
            "text/plain": [
              "<keras.callbacks.History at 0x7fdb9d5f32d0>"
            ]
          },
          "metadata": {},
          "execution_count": 46
        }
      ],
      "source": [
        "# Flipped Dataset\n",
        "history = History()\n",
        "model = keras.Sequential([\n",
        "    keras.layers.Dense(200, input_shape=(784,), activation='relu'),\n",
        "    keras.layers.Dense(100, activation='relu'),\n",
        "    keras.layers.Dense(2, activation='sigmoid')\n",
        "])\n",
        "\n",
        "model.compile(optimizer='adam',\n",
        "              loss='sparse_categorical_crossentropy',\n",
        "              metrics=['accuracy'])\n",
        "\n",
        "model.fit(fliplr_x_flattened, fliplr_y, epochs=10, callbacks=[history])"
      ]
    },
    {
      "cell_type": "code",
      "source": [
        "# Noisy Dataset\n",
        "\n",
        "history = History()\n",
        "model = keras.Sequential([\n",
        "    keras.layers.Dense(200, input_shape=(784,), activation='relu'),\n",
        "    keras.layers.Dense(100, activation='relu'),\n",
        "    keras.layers.Dense(2, activation='sigmoid')\n",
        "])\n",
        "\n",
        "model.compile(optimizer='adam',\n",
        "              loss='sparse_categorical_crossentropy',\n",
        "              metrics=['accuracy'])\n",
        "\n",
        "model.fit(noisy_x_flattened, noisy_y, epochs=10, callbacks=[history])"
      ],
      "metadata": {
        "colab": {
          "base_uri": "https://localhost:8080/"
        },
        "id": "Yhi7vqId0-xv",
        "outputId": "b965c9ba-cfc2-41a4-f6c2-d0a173f7d9e0"
      },
      "execution_count": 47,
      "outputs": [
        {
          "output_type": "stream",
          "name": "stdout",
          "text": [
            "Epoch 1/10\n",
            "54/54 [==============================] - 1s 3ms/step - loss: 0.4513 - accuracy: 0.7824\n",
            "Epoch 2/10\n",
            "54/54 [==============================] - 0s 3ms/step - loss: 0.2621 - accuracy: 0.8859\n",
            "Epoch 3/10\n",
            "54/54 [==============================] - 0s 3ms/step - loss: 0.2621 - accuracy: 0.8894\n",
            "Epoch 4/10\n",
            "54/54 [==============================] - 0s 3ms/step - loss: 0.1649 - accuracy: 0.9376\n",
            "Epoch 5/10\n",
            "54/54 [==============================] - 0s 3ms/step - loss: 0.1184 - accuracy: 0.9606\n",
            "Epoch 6/10\n",
            "54/54 [==============================] - 0s 4ms/step - loss: 0.0912 - accuracy: 0.9759\n",
            "Epoch 7/10\n",
            "54/54 [==============================] - 0s 4ms/step - loss: 0.0520 - accuracy: 0.9882\n",
            "Epoch 8/10\n",
            "54/54 [==============================] - 0s 4ms/step - loss: 0.0757 - accuracy: 0.9794\n",
            "Epoch 9/10\n",
            "54/54 [==============================] - 0s 4ms/step - loss: 0.0517 - accuracy: 0.9894\n",
            "Epoch 10/10\n",
            "54/54 [==============================] - 0s 3ms/step - loss: 0.0368 - accuracy: 0.9924\n"
          ]
        },
        {
          "output_type": "execute_result",
          "data": {
            "text/plain": [
              "<keras.callbacks.History at 0x7fdb9d5b1dd0>"
            ]
          },
          "metadata": {},
          "execution_count": 47
        }
      ]
    },
    {
      "cell_type": "code",
      "source": [
        "# Blurred Dataset\n",
        "history = History()\n",
        "model = keras.Sequential([\n",
        "    keras.layers.Dense(200, input_shape=(784,), activation='relu'),\n",
        "    keras.layers.Dense(100, activation='relu'),\n",
        "    keras.layers.Dense(2, activation='sigmoid')\n",
        "])\n",
        "\n",
        "model.compile(optimizer='adam',\n",
        "              loss='sparse_categorical_crossentropy',\n",
        "              metrics=['accuracy'])\n",
        "\n",
        "model.fit(blurred_x_flattened, blurred_y, epochs=10, callbacks=[history])"
      ],
      "metadata": {
        "colab": {
          "base_uri": "https://localhost:8080/"
        },
        "id": "2sLM6CDt5kE4",
        "outputId": "0507b317-2d8f-45cc-aef9-d7481431456d"
      },
      "execution_count": 48,
      "outputs": [
        {
          "output_type": "stream",
          "name": "stdout",
          "text": [
            "Epoch 1/10\n",
            "54/54 [==============================] - 1s 4ms/step - loss: 0.4242 - accuracy: 0.8253\n",
            "Epoch 2/10\n",
            "54/54 [==============================] - 0s 3ms/step - loss: 0.2906 - accuracy: 0.8841\n",
            "Epoch 3/10\n",
            "54/54 [==============================] - 0s 4ms/step - loss: 0.1921 - accuracy: 0.9206\n",
            "Epoch 4/10\n",
            "54/54 [==============================] - 0s 4ms/step - loss: 0.1924 - accuracy: 0.9176\n",
            "Epoch 5/10\n",
            "54/54 [==============================] - 0s 3ms/step - loss: 0.1423 - accuracy: 0.9282\n",
            "Epoch 6/10\n",
            "54/54 [==============================] - 0s 3ms/step - loss: 0.1736 - accuracy: 0.9147\n",
            "Epoch 7/10\n",
            "54/54 [==============================] - 0s 3ms/step - loss: 0.1290 - accuracy: 0.9365\n",
            "Epoch 8/10\n",
            "54/54 [==============================] - 0s 3ms/step - loss: 0.0996 - accuracy: 0.9441\n",
            "Epoch 9/10\n",
            "54/54 [==============================] - 0s 3ms/step - loss: 0.0856 - accuracy: 0.9588\n",
            "Epoch 10/10\n",
            "54/54 [==============================] - 0s 3ms/step - loss: 0.0853 - accuracy: 0.9500\n"
          ]
        },
        {
          "output_type": "execute_result",
          "data": {
            "text/plain": [
              "<keras.callbacks.History at 0x7fdb9d3f4ed0>"
            ]
          },
          "metadata": {},
          "execution_count": 48
        }
      ]
    },
    {
      "cell_type": "code",
      "execution_count": 49,
      "metadata": {
        "id": "HEqlOMu1Rt9n",
        "colab": {
          "base_uri": "https://localhost:8080/"
        },
        "outputId": "f4f3f586-2e5c-4119-c3b0-8e5ea525b948"
      },
      "outputs": [
        {
          "output_type": "stream",
          "name": "stdout",
          "text": [
            "Epoch 1/10\n",
            "54/54 [==============================] - 2s 26ms/step - loss: 0.4887 - accuracy: 0.7506\n",
            "Epoch 2/10\n",
            "54/54 [==============================] - 1s 26ms/step - loss: 0.2260 - accuracy: 0.8988\n",
            "Epoch 3/10\n",
            "54/54 [==============================] - 1s 26ms/step - loss: 0.1499 - accuracy: 0.9353\n",
            "Epoch 4/10\n",
            "54/54 [==============================] - 1s 26ms/step - loss: 0.1274 - accuracy: 0.9412\n",
            "Epoch 5/10\n",
            "54/54 [==============================] - 1s 26ms/step - loss: 0.1169 - accuracy: 0.9447\n",
            "Epoch 6/10\n",
            "54/54 [==============================] - 1s 25ms/step - loss: 0.1092 - accuracy: 0.9453\n",
            "Epoch 7/10\n",
            "54/54 [==============================] - 1s 26ms/step - loss: 0.1054 - accuracy: 0.9476\n",
            "Epoch 8/10\n",
            "54/54 [==============================] - 1s 26ms/step - loss: 0.1072 - accuracy: 0.9488\n",
            "Epoch 9/10\n",
            "54/54 [==============================] - 1s 27ms/step - loss: 0.1012 - accuracy: 0.9488\n",
            "Epoch 10/10\n",
            "54/54 [==============================] - 1s 27ms/step - loss: 0.0975 - accuracy: 0.9506\n"
          ]
        },
        {
          "output_type": "execute_result",
          "data": {
            "text/plain": [
              "<keras.callbacks.History at 0x7fdb9d2c7290>"
            ]
          },
          "metadata": {},
          "execution_count": 49
        }
      ],
      "source": [
        "# Normal\n",
        "cnn = models.Sequential([\n",
        "    layers.Conv2D(filters=32, kernel_size=(3, 3), activation='relu', input_shape=(28, 28, 1)),\n",
        "    layers.MaxPooling2D((2, 2)),\n",
        "    \n",
        "    layers.Conv2D(filters=64, kernel_size=(3, 3), activation='relu'),\n",
        "    layers.MaxPooling2D((2, 2)),\n",
        "    \n",
        "    layers.Flatten(),\n",
        "    layers.Dense(64, activation='relu'),\n",
        "    layers.Dense(2, activation='softmax')\n",
        "])\n",
        "\n",
        "cnn.compile(optimizer='adam',\n",
        "              loss='sparse_categorical_crossentropy',\n",
        "              metrics=['accuracy'])\n",
        "\n",
        "# reshape Data for Input layer\n",
        "n_images = len(X_train)\n",
        "x_wanted = X_train.reshape(n_images, 28, 28, 1)\n",
        "x_wanted.shape\n",
        "\n",
        "cnn.fit(x_wanted, Y_train, epochs=10)"
      ]
    },
    {
      "cell_type": "code",
      "source": [
        "# Flipped\n",
        "cnn = models.Sequential([\n",
        "    layers.Conv2D(filters=32, kernel_size=(3, 3), activation='relu', input_shape=(28, 28, 1)),\n",
        "    layers.MaxPooling2D((2, 2)),\n",
        "    \n",
        "    layers.Conv2D(filters=64, kernel_size=(3, 3), activation='relu'),\n",
        "    layers.MaxPooling2D((2, 2)),\n",
        "    \n",
        "    layers.Flatten(),\n",
        "    layers.Dense(64, activation='relu'),\n",
        "    layers.Dense(2, activation='softmax')\n",
        "])\n",
        "\n",
        "cnn.compile(optimizer='adam',\n",
        "              loss='sparse_categorical_crossentropy',\n",
        "              metrics=['accuracy'])\n",
        "\n",
        "# reshape Data for Input layer\n",
        "n_images = len(X_train)\n",
        "x_wanted = fliplr_x.reshape(n_images, 28, 28, 1)\n",
        "x_wanted.shape\n",
        "\n",
        "cnn.fit(x_wanted, fliplr_y, epochs=10)"
      ],
      "metadata": {
        "colab": {
          "base_uri": "https://localhost:8080/"
        },
        "id": "Kop0-vElw1sN",
        "outputId": "8d397bbb-83af-44be-abbb-d5d54f2659c2"
      },
      "execution_count": 50,
      "outputs": [
        {
          "output_type": "stream",
          "name": "stdout",
          "text": [
            "Epoch 1/10\n",
            "54/54 [==============================] - 2s 26ms/step - loss: 0.4805 - accuracy: 0.7829\n",
            "Epoch 2/10\n",
            "54/54 [==============================] - 1s 26ms/step - loss: 0.2293 - accuracy: 0.8976\n",
            "Epoch 3/10\n",
            "54/54 [==============================] - 1s 26ms/step - loss: 0.1510 - accuracy: 0.9329\n",
            "Epoch 4/10\n",
            "54/54 [==============================] - 1s 26ms/step - loss: 0.1305 - accuracy: 0.9412\n",
            "Epoch 5/10\n",
            "54/54 [==============================] - 1s 26ms/step - loss: 0.1168 - accuracy: 0.9447\n",
            "Epoch 6/10\n",
            "54/54 [==============================] - 1s 26ms/step - loss: 0.1134 - accuracy: 0.9435\n",
            "Epoch 7/10\n",
            "54/54 [==============================] - 1s 26ms/step - loss: 0.1077 - accuracy: 0.9447\n",
            "Epoch 8/10\n",
            "54/54 [==============================] - 2s 32ms/step - loss: 0.1026 - accuracy: 0.9482\n",
            "Epoch 9/10\n",
            "54/54 [==============================] - 2s 32ms/step - loss: 0.1001 - accuracy: 0.9494\n",
            "Epoch 10/10\n",
            "54/54 [==============================] - 2s 32ms/step - loss: 0.0984 - accuracy: 0.9512\n"
          ]
        },
        {
          "output_type": "execute_result",
          "data": {
            "text/plain": [
              "<keras.callbacks.History at 0x7fdba39e8fd0>"
            ]
          },
          "metadata": {},
          "execution_count": 50
        }
      ]
    },
    {
      "cell_type": "code",
      "source": [
        "# Noisy\n",
        "cnn = models.Sequential([\n",
        "    layers.Conv2D(filters=32, kernel_size=(3, 3), activation='relu', input_shape=(28, 28, 1)),\n",
        "    layers.MaxPooling2D((2, 2)),\n",
        "    \n",
        "    layers.Conv2D(filters=64, kernel_size=(3, 3), activation='relu'),\n",
        "    layers.MaxPooling2D((2, 2)),\n",
        "    \n",
        "    layers.Flatten(),\n",
        "    layers.Dense(64, activation='relu'),\n",
        "    layers.Dense(2, activation='softmax')\n",
        "])\n",
        "\n",
        "cnn.compile(optimizer='adam',\n",
        "              loss='sparse_categorical_crossentropy',\n",
        "              metrics=['accuracy'])\n",
        "\n",
        "# reshape Data for Input layer\n",
        "n_images = len(X_train)\n",
        "x_wanted = noisy_x.reshape(n_images, 28, 28, 1)\n",
        "x_wanted.shape\n",
        "\n",
        "cnn.fit(x_wanted, noisy_y, epochs=10)"
      ],
      "metadata": {
        "colab": {
          "base_uri": "https://localhost:8080/"
        },
        "id": "ZXIFPoB8w3AK",
        "outputId": "f818ac75-2dad-41ad-a76f-6b9f7c560715"
      },
      "execution_count": 51,
      "outputs": [
        {
          "output_type": "stream",
          "name": "stdout",
          "text": [
            "Epoch 1/10\n",
            "54/54 [==============================] - 3s 40ms/step - loss: 0.5457 - accuracy: 0.7106\n",
            "Epoch 2/10\n",
            "54/54 [==============================] - 2s 33ms/step - loss: 0.2976 - accuracy: 0.8682\n",
            "Epoch 3/10\n",
            "54/54 [==============================] - 1s 27ms/step - loss: 0.1974 - accuracy: 0.9182\n",
            "Epoch 4/10\n",
            "54/54 [==============================] - 1s 27ms/step - loss: 0.1528 - accuracy: 0.9329\n",
            "Epoch 5/10\n",
            "54/54 [==============================] - 2s 28ms/step - loss: 0.1354 - accuracy: 0.9453\n",
            "Epoch 6/10\n",
            "54/54 [==============================] - 1s 28ms/step - loss: 0.1249 - accuracy: 0.9447\n",
            "Epoch 7/10\n",
            "54/54 [==============================] - 2s 28ms/step - loss: 0.1132 - accuracy: 0.9494\n",
            "Epoch 8/10\n",
            "54/54 [==============================] - 1s 27ms/step - loss: 0.1067 - accuracy: 0.9524\n",
            "Epoch 9/10\n",
            "54/54 [==============================] - 2s 28ms/step - loss: 0.1038 - accuracy: 0.9518\n",
            "Epoch 10/10\n",
            "54/54 [==============================] - 1s 27ms/step - loss: 0.0987 - accuracy: 0.9588\n"
          ]
        },
        {
          "output_type": "execute_result",
          "data": {
            "text/plain": [
              "<keras.callbacks.History at 0x7fdb9d1c6c50>"
            ]
          },
          "metadata": {},
          "execution_count": 51
        }
      ]
    },
    {
      "cell_type": "code",
      "source": [
        "# Blur\n",
        "cnn = models.Sequential([\n",
        "    layers.Conv2D(filters=32, kernel_size=(3, 3), activation='relu', input_shape=(28, 28, 1)),\n",
        "    layers.MaxPooling2D((2, 2)),\n",
        "    \n",
        "    layers.Conv2D(filters=64, kernel_size=(3, 3), activation='relu'),\n",
        "    layers.MaxPooling2D((2, 2)),\n",
        "    \n",
        "    layers.Flatten(),\n",
        "    layers.Dense(64, activation='relu'),\n",
        "    layers.Dense(2, activation='softmax')\n",
        "])\n",
        "\n",
        "cnn.compile(optimizer='adam',\n",
        "              loss='sparse_categorical_crossentropy',\n",
        "              metrics=['accuracy'])\n",
        "\n",
        "# reshape Data for Input layer\n",
        "n_images = len(X_train)\n",
        "x_wanted = blurred_x.reshape(n_images, 28, 28, 1)\n",
        "x_wanted.shape\n",
        "\n",
        "cnn.fit(x_wanted, blurred_y, epochs=10)"
      ],
      "metadata": {
        "colab": {
          "base_uri": "https://localhost:8080/"
        },
        "id": "TksxPdArxNeL",
        "outputId": "3d777608-ffe4-4987-950f-29b515fbd879"
      },
      "execution_count": 52,
      "outputs": [
        {
          "output_type": "stream",
          "name": "stdout",
          "text": [
            "Epoch 1/10\n",
            "54/54 [==============================] - 2s 27ms/step - loss: 0.5145 - accuracy: 0.7435\n",
            "Epoch 2/10\n",
            "54/54 [==============================] - 1s 27ms/step - loss: 0.2584 - accuracy: 0.8859\n",
            "Epoch 3/10\n",
            "54/54 [==============================] - 1s 26ms/step - loss: 0.1657 - accuracy: 0.9265\n",
            "Epoch 4/10\n",
            "54/54 [==============================] - 1s 26ms/step - loss: 0.1340 - accuracy: 0.9388\n",
            "Epoch 5/10\n",
            "54/54 [==============================] - 1s 27ms/step - loss: 0.1226 - accuracy: 0.9447\n",
            "Epoch 6/10\n",
            "54/54 [==============================] - 1s 27ms/step - loss: 0.1201 - accuracy: 0.9371\n",
            "Epoch 7/10\n",
            "54/54 [==============================] - 1s 27ms/step - loss: 0.1110 - accuracy: 0.9500\n",
            "Epoch 8/10\n",
            "54/54 [==============================] - 1s 27ms/step - loss: 0.1117 - accuracy: 0.9476\n",
            "Epoch 9/10\n",
            "54/54 [==============================] - 1s 27ms/step - loss: 0.1116 - accuracy: 0.9424\n",
            "Epoch 10/10\n",
            "54/54 [==============================] - 1s 26ms/step - loss: 0.1083 - accuracy: 0.9471\n"
          ]
        },
        {
          "output_type": "execute_result",
          "data": {
            "text/plain": [
              "<keras.callbacks.History at 0x7fdb94b83050>"
            ]
          },
          "metadata": {},
          "execution_count": 52
        }
      ]
    }
  ],
  "metadata": {
    "kernelspec": {
      "display_name": "Python 3",
      "language": "python",
      "name": "python3"
    },
    "language_info": {
      "codemirror_mode": {
        "name": "ipython",
        "version": 3
      },
      "file_extension": ".py",
      "mimetype": "text/x-python",
      "name": "python",
      "nbconvert_exporter": "python",
      "pygments_lexer": "ipython3",
      "version": "3.8.8"
    },
    "colab": {
      "name": "SynthethicAugmentation.ipynb",
      "provenance": [],
      "collapsed_sections": [],
      "include_colab_link": true
    }
  },
  "nbformat": 4,
  "nbformat_minor": 0
}